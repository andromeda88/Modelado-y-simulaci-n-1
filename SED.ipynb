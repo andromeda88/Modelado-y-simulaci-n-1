{
 "cells": [
  {
   "cell_type": "markdown",
   "metadata": {},
   "source": [
    "# Simulación de eventos discretos\n"
   ]
  },
  {
   "cell_type": "markdown",
   "metadata": {},
   "source": [
    "Observaremos los componentes que pueden formar un simulador para eventos discretos, el cual representa un sistema que presta algún tipo de servicio.\n",
    "\n",
    "La simulación del sistema se basa en una secuencia de eventos, un evento representa la llegada del exterior de un usuario, estos eventos se manejan a través de una lista ordenada a través de tiempos de ocurrencia, cada evento tendrá asociado los siguientes parámetros: tiempo de ocurrencia, nodo de ocurrencia y tipo de evento.\n",
    "\n",
    "Está compuesto por una serie de nodos o puntos de servicio, que dependiendo del tipo tiene una relación con otros nodos y con el exterior del sistema. Existen dos tipos de nodos uno es el que recibe la información externa, en éste caso el que recibe a los usuarios que llegan al sistema se le denomina *Nodo tipo llegada*, el otro tipo de nodo es el que recibe a los usuarios provenientes de otros nodos se le denomina *Nodo tipo otro*.\n",
    "\n",
    "Los nodos de tipo llegada tienen varios atributos:\n",
    "* Tiempo promedio entre llegada de los usuarios del exterior.\n",
    "* Tiempo promedio de servicio al usuario.\n",
    "* Capacidad de servicio, cantidad de servidores en el nodo.\n",
    "* Conjunto de nodos sucesores, puntos de servicio a los que el usuario puede acceder luego de salir del nodo.\n",
    "* Distribución de probabilidad de nodos sucesore, con la cual describe la tendencia con la que un usuario irá a un nodo sucesor.\n",
    "\n",
    "Los nodos de tipo otro tienen los atributos:\n",
    "* Tiempo promedio de servicio al usuario.\n",
    "* Capacidad de servicio, cantidad de servidores en el nodo.\n",
    "* Conjunto de nodos sucesores, puntos de servicio a los que el usuario puede acceder luego de salir del nodo.\n",
    "* Distribución de probabilidad de nodos sucesore, con la cual describe la tendencia con la que un usuario irá a un nodo sucesor.\n",
    "\n",
    "Lo que diferencia un tipo de nodo del otro, es el tiempo de llegada entre usuarios, el cual sólo lo tienen los nodos o nodo que reciban los usuarios del exterior, si un nodo no tiene nodo sucesores quiere decir que luego de ser atendido, el usuario sale del sistema. Cada nodo dependiendo del tiempo de atención y la cantidad de usuarios que lleguen,en el nodo se formará una cola que tendrá un comportamiento *FIFO* (el primero en llegar, primero en salir).\n",
    "\n",
    "Para la simulación del sistema, que denominaremos red, se utilizará un archivo de texto que falicitará la introducción de los datos a la misma. Este archivo de texto trae como datos:\n",
    "\n",
    "* El tiempo de Simulación.\n",
    "* Cantidad inicial de usuarios.\n",
    "* Tipo de nodo.\n",
    "* Tiempo entre llegadas, si es de tipo llegada.\n",
    "* Tiempo de servicio.\n",
    "* Capacidad de servicio.\n",
    "* Cantidad de sucesores.\n",
    "* Sucesores.\n",
    "* Probabilidad acumulada de los sucesores.\n",
    "\n",
    "Dependiendo de la dinámica de la red, puede suceder que un nodo de tipo llegada, también reciba usuarios de otros nodos, ésa diferencia se denota en el código de la simulación como llegada_e, si es llegada externa, y llegada_i si es llegada interna, es decir proveniente de otro nodo.\n",
    "Es importante ver cómo pasa un usuario del nodo actual a uno de los nodos sucesores, se realiza a través de la generación de números aleatorios entre 0 y 1, el número resultante se compara con la probabilidad acumulada asociada a cada nodo sucesor, ésta comparación reflejará cuál de los nodos sucesores será al que el usuario irá luego.\n",
    "\n",
    "La simulación básicamente funciona de la siguiente forma:\n",
    "\n",
    "1. Leer el archivo de entrada.\n",
    "2. Inicializar la lista de eventos.\n",
    "3. Inicializar variables, como por ejemplo tiempo simulado.\n",
    "4. Mientras haya tiempo de simulación, se irá leyendo un evento.\n",
    "5. Con cada evento se van actualizando las estadisticas, como longitud de la cola, tiempo de servicio, uso del nodo, etc.\n",
    "6. Cuando termina el tiempo de simulación, se escribe el archivo de salida el cual describe las estadísticas de cada nodo.\n",
    "\n",
    "Las estadísticas de interés por cada nodo son las siguientes:\n",
    "\n",
    "* Cantidad de usuarios promedio en cola.\n",
    "* Cantidad máxima de usuarios en cola.\n",
    "* Longitud de la cola al terminar la simulación.\n",
    "* Cantidad de usuarios en el nodo al terminar la simulación.\n",
    "* Tiempo promedio de espera en cola.\n",
    "* Ocupación promedio del servicio.\n",
    "* Tiempo en que el nodo estuvo vacio.\n",
    "* Cantidad de usuarios que llegaron al nodo.\n",
    "* Cantidad de usuarios que completaron el servicio en el nodo.\n",
    "\n"
   ]
  },
  {
   "cell_type": "code",
   "execution_count": null,
   "metadata": {},
   "outputs": [],
   "source": []
  }
 ],
 "metadata": {
  "kernelspec": {
   "display_name": "Python 3",
   "language": "python",
   "name": "python3"
  },
  "language_info": {
   "codemirror_mode": {
    "name": "ipython",
    "version": 3
   },
   "file_extension": ".py",
   "mimetype": "text/x-python",
   "name": "python",
   "nbconvert_exporter": "python",
   "pygments_lexer": "ipython3",
   "version": "3.7.4"
  }
 },
 "nbformat": 4,
 "nbformat_minor": 2
}
