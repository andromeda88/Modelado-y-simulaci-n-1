{
 "cells": [
  {
   "cell_type": "markdown",
   "metadata": {},
   "source": [
    "## Ejercicio 19\n",
    "\n",
    "*Un gerente de planta está considerando invertir en una nueva Máquina de   30000 dólares. El uso de la nueva máquina es esperado para generar un flujo de efectivo de aproximadamente 8000 dólares por año para cada uno de los próximos 5 años. Sin embargo, el flujo de efectivo es incierto, y el gerente estima que el flujo de efectivo real se distribuirá normalmente con una media de 8000 dólares y una desviación estándar de 500 dólares. La tasa de descuento se establece en 8% y se supone que permanece constante durante los próximos 5 años. La empresa evalúa inversiones de capital utilizando el valor presente neto. ¿Qué tan arriesgada es esta inversión? Desarrollar un apropiado modelo de simulación y realizar experimentos y análisis estadístico de salida para responder a esta pregunta.*\n"
   ]
  },
  {
   "cell_type": "markdown",
   "metadata": {},
   "source": [
    "En el enunciado se pide ver qué tan arreisgado puede resultar la inversión en una máquina, la cual se espera que traiga beneficios a largo plazo.\n",
    "Para evaluar éste riesgo se utilizará el valor presente neto.\n",
    "\n",
    "A continuación haremos el llamado a las bibliotecas que vamos a necesitar para realizar los calculos"
   ]
  },
  {
   "cell_type": "code",
   "execution_count": 2,
   "metadata": {},
   "outputs": [],
   "source": [
    "import numpy as np\n",
    "import matplotlib.pyplot as plt\n",
    "from IPython.display import display, Markdown, Latex\n"
   ]
  },
  {
   "cell_type": "markdown",
   "metadata": {},
   "source": [
    "Observando la exptesión deL VPN, procedemos a crear las variables lo forman"
   ]
  },
  {
   "cell_type": "code",
   "execution_count": 6,
   "metadata": {},
   "outputs": [],
   "source": [
    "Inv=30000\n",
    "flujo_E=np.random.normal(8000,500,(1000,1))\n",
    "tasa_D=0.08"
   ]
  },
  {
   "cell_type": "markdown",
   "metadata": {},
   "source": [
    "Inv representa la inversión que respresenta la máquina, flujo_E representa el flujo de efectivo que se estima con una dsitribución nomal y simulado 1000 veces, tasa_D representa la tasa de descuento que será fia durante los 5 años."
   ]
  },
  {
   "cell_type": "code",
   "execution_count": 7,
   "metadata": {},
   "outputs": [],
   "source": [
    "VPN=np.pv(tasa_D, range(1, 6), 0, -flujo_E).sum(axis=1, keepdims=True) - Inv\n"
   ]
  },
  {
   "cell_type": "markdown",
   "metadata": {},
   "source": [
    "VPN es calculado con la función pv que recibe como parámetros la tasa de descuento, tiempo en el que se quiere simular (range(1, 6)) que son 5 años y el flujo de entrada, a éste resultado se le resta la inversión."
   ]
  },
  {
   "cell_type": "markdown",
   "metadata": {},
   "source": [
    "\n",
    "A continuación observaremos la simulación del valor presente a través de un histograma"
   ]
  },
  {
   "cell_type": "code",
   "execution_count": 8,
   "metadata": {},
   "outputs": [
    {
     "data": {
      "image/png": "[encoded data removed]",
      "text/plain": [
       "<Figure size 432x288 with 1 Axes>"
      ]
     },
     "metadata": {
      "needs_background": "light"
     },
     "output_type": "display_data"
    }
   ],
   "source": [
    "plt.hist(VPN, bins=20)\n",
    "plt.show()\n"
   ]
  },
  {
   "cell_type": "markdown",
   "metadata": {},
   "source": [
    "Ahora calcularemos el porcentaje de probabilidad que el valor presente sea negativo"
   ]
  },
  {
   "cell_type": "code",
   "execution_count": 9,
   "metadata": {},
   "outputs": [],
   "source": [
    "RN=(VPN < 0).mean()\n"
   ]
  },
  {
   "cell_type": "code",
   "execution_count": 10,
   "metadata": {},
   "outputs": [
    {
     "data": {
      "text/markdown": [
       "Riesgo de retornos negativos = 17.80%"
      ],
      "text/plain": [
       "<IPython.core.display.Markdown object>"
      ]
     },
     "metadata": {},
     "output_type": "display_data"
    }
   ],
   "source": [
    "display(Markdown(f\"Riesgo de retornos negativos = {RN:.2%}\"))\n"
   ]
  }
 ],
 "metadata": {
  "kernelspec": {
   "display_name": "Python 3",
   "language": "python",
   "name": "python3"
  },
  "language_info": {
   "codemirror_mode": {
    "name": "ipython",
    "version": 3
   },
   "file_extension": ".py",
   "mimetype": "text/x-python",
   "name": "python",
   "nbconvert_exporter": "python",
   "pygments_lexer": "ipython3",
   "version": "3.7.4"
  }
 },
 "nbformat": 4,
 "nbformat_minor": 2
}
